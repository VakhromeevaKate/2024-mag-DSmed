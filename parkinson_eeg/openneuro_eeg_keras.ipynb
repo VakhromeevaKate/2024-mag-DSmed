{
 "cells": [
  {
   "cell_type": "markdown",
   "metadata": {},
   "source": [
    "# KERAS TEST"
   ]
  },
  {
   "cell_type": "code",
   "execution_count": 1,
   "metadata": {},
   "outputs": [
    {
     "name": "stderr",
     "output_type": "stream",
     "text": [
      "/Users/evakhromeeva/Projects/BeSMPSegmentation/.conda/lib/python3.9/site-packages/tqdm/auto.py:21: TqdmWarning: IProgress not found. Please update jupyter and ipywidgets. See https://ipywidgets.readthedocs.io/en/stable/user_install.html\n",
      "  from .autonotebook import tqdm as notebook_tqdm\n"
     ]
    }
   ],
   "source": [
    "import os\n",
    "import numpy as np\n",
    "import mne\n",
    "from mne.datasets import sample\n",
    "from sklearn.model_selection import train_test_split\n",
    "from openneuro import download\n",
    "from autoreject import get_rejection_threshold\n",
    "\n",
    "\n",
    "# import torch\n",
    "#from torch.utils.data import DataLoader, TensorDataset"
   ]
  },
  {
   "cell_type": "code",
   "execution_count": 2,
   "metadata": {},
   "outputs": [],
   "source": [
    "# Расположение данных\n",
    "dataset_path = '/Users/evakhromeeva/mne_data/ds002778'"
   ]
  },
  {
   "cell_type": "code",
   "execution_count": 3,
   "metadata": {},
   "outputs": [],
   "source": [
    "# Параметры датасета\n",
    "dataset = \"ds002778\"\n",
    "subjects_pd = [\"sub-pd3\", \"sub-pd5\", \"sub-pd6\", \"sub-pd6\", \"sub-pd9\",\"sub-pd11\", \"sub-pd12\", \"sub-pd13\", \"sub-pd14\", \"sub-pd16\", \"sub-pd17\", \"sub-pd19\", \"sub-pd22\", \"sub-pd23\", \"sub-pd26\", \"sub-pd28\"]# subject with PD\n",
    "subjects_hc = [\"sub-hc1\", \"sub-hc2\", \"sub-hc4\", \"sub-hc7\", \"sub-hc8\", \"sub-hc10\", \"sub-hc18\", \"sub-hc20\", \"sub-hc21\", \"sub-hc24\", \"sub-hc25\", \"sub-hc29\", \"sub-hc30\", \"sub-hc31\", \"sub-hc32\", \"sub-hc33\"] # healthy subject"
   ]
  },
  {
   "cell_type": "code",
   "execution_count": 4,
   "metadata": {},
   "outputs": [],
   "source": [
    "# Загрузка и предобработка данных\n",
    "def load_and_preprocess_data(data_list, is_healthy=True, duration=2.0):\n",
    "    raw_files = [get_eeg_data_path(f) for f in data_list]\n",
    "    epochs_list = []\n",
    "    labels = []\n",
    "\n",
    "    for raw_file in raw_files:\n",
    "        raw = mne.io.read_raw_bdf(raw_file, preload=True)\n",
    "        raw.drop_channels(['EXG1', 'EXG2', 'EXG3', 'EXG4','EXG5', 'EXG6', 'EXG7', 'EXG8', 'Status']) #drop extra channels\n",
    "        raw.set_eeg_reference(ref_channels='average')\n",
    "        raw.filter(0.5, None, fir_design='firwin',phase='zero-double') #remove drifts\n",
    "        event_id = {'healthy': 0, 'parkinson': 1}\n",
    "        epochs = mne.make_fixed_length_epochs(raw, duration=duration, preload=False, proj=True)\n",
    "        reject = get_rejection_threshold(epochs)\n",
    "        epochs.drop_bad(reject=reject)\n",
    "        epochs_list.append(epochs)\n",
    "        labels.extend([event_id['healthy'] if is_healthy else event_id['parkinson']] * len(epochs))\n",
    "\n",
    "    epochs_data = np.concatenate([e.get_data() for e in epochs_list])\n",
    "    labels = np.array(labels)\n",
    "    return epochs_data, labels"
   ]
  },
  {
   "cell_type": "code",
   "execution_count": 5,
   "metadata": {},
   "outputs": [
    {
     "ename": "NameError",
     "evalue": "name 'get_eeg_data_path' is not defined",
     "output_type": "error",
     "traceback": [
      "\u001b[0;31m---------------------------------------------------------------------------\u001b[0m",
      "\u001b[0;31mNameError\u001b[0m                                 Traceback (most recent call last)",
      "Cell \u001b[0;32mIn[5], line 2\u001b[0m\n\u001b[1;32m      1\u001b[0m \u001b[38;5;66;03m# Основной пайплайн\u001b[39;00m\n\u001b[0;32m----> 2\u001b[0m X_pd, y_pd \u001b[38;5;241m=\u001b[39m \u001b[43mload_and_preprocess_data\u001b[49m\u001b[43m(\u001b[49m\u001b[43msubjects_pd\u001b[49m\u001b[43m,\u001b[49m\u001b[43m \u001b[49m\u001b[43mis_healthy\u001b[49m\u001b[38;5;241;43m=\u001b[39;49m\u001b[38;5;28;43;01mFalse\u001b[39;49;00m\u001b[43m)\u001b[49m\n\u001b[1;32m      3\u001b[0m X_hc, y_hc \u001b[38;5;241m=\u001b[39m load_and_preprocess_data(subjects_hc, is_healthy\u001b[38;5;241m=\u001b[39m\u001b[38;5;28;01mTrue\u001b[39;00m)\n",
      "Cell \u001b[0;32mIn[4], line 3\u001b[0m, in \u001b[0;36mload_and_preprocess_data\u001b[0;34m(data_list, is_healthy, duration)\u001b[0m\n\u001b[1;32m      2\u001b[0m \u001b[38;5;28;01mdef\u001b[39;00m \u001b[38;5;21mload_and_preprocess_data\u001b[39m(data_list, is_healthy\u001b[38;5;241m=\u001b[39m\u001b[38;5;28;01mTrue\u001b[39;00m, duration\u001b[38;5;241m=\u001b[39m\u001b[38;5;241m2.0\u001b[39m):\n\u001b[0;32m----> 3\u001b[0m     raw_files \u001b[38;5;241m=\u001b[39m [get_eeg_data_path(f) \u001b[38;5;28;01mfor\u001b[39;00m f \u001b[38;5;129;01min\u001b[39;00m data_list]\n\u001b[1;32m      4\u001b[0m     epochs_list \u001b[38;5;241m=\u001b[39m []\n\u001b[1;32m      5\u001b[0m     labels \u001b[38;5;241m=\u001b[39m []\n",
      "Cell \u001b[0;32mIn[4], line 3\u001b[0m, in \u001b[0;36m<listcomp>\u001b[0;34m(.0)\u001b[0m\n\u001b[1;32m      2\u001b[0m \u001b[38;5;28;01mdef\u001b[39;00m \u001b[38;5;21mload_and_preprocess_data\u001b[39m(data_list, is_healthy\u001b[38;5;241m=\u001b[39m\u001b[38;5;28;01mTrue\u001b[39;00m, duration\u001b[38;5;241m=\u001b[39m\u001b[38;5;241m2.0\u001b[39m):\n\u001b[0;32m----> 3\u001b[0m     raw_files \u001b[38;5;241m=\u001b[39m [\u001b[43mget_eeg_data_path\u001b[49m(f) \u001b[38;5;28;01mfor\u001b[39;00m f \u001b[38;5;129;01min\u001b[39;00m data_list]\n\u001b[1;32m      4\u001b[0m     epochs_list \u001b[38;5;241m=\u001b[39m []\n\u001b[1;32m      5\u001b[0m     labels \u001b[38;5;241m=\u001b[39m []\n",
      "\u001b[0;31mNameError\u001b[0m: name 'get_eeg_data_path' is not defined"
     ]
    }
   ],
   "source": [
    "# Основной пайплайн\n",
    "X_pd, y_pd = load_and_preprocess_data(subjects_pd, is_healthy=False)\n",
    "X_hc, y_hc = load_and_preprocess_data(subjects_hc, is_healthy=True)"
   ]
  },
  {
   "cell_type": "code",
   "execution_count": null,
   "metadata": {},
   "outputs": [],
   "source": [
    "# Объединение данных больных и здоровых в единый тензор\n",
    "\n",
    "X = np.concatenate((X_pd, X_hc), axis=0)\n",
    "y = np.concatenate((y_pd, y_hc), axis=0)\n",
    "print(X.shape)\n",
    "print(y.shape)"
   ]
  },
  {
   "cell_type": "code",
   "execution_count": null,
   "metadata": {},
   "outputs": [],
   "source": [
    "# Разделение на тренировочную и тестовую выборки\n",
    "\n",
    "from sklearn.model_selection import train_test_split\n",
    "\n",
    "X_train, X_test, y_train, y_test = train_test_split(X, y, test_size=0.2, random_state=42)\n",
    "X_train, X_val, y_train, y_val = train_test_split(X_train, y_train, test_size=0.2, random_state=42)"
   ]
  },
  {
   "cell_type": "code",
   "execution_count": null,
   "metadata": {},
   "outputs": [],
   "source": [
    "import pywt\n",
    "\n",
    "def apply_wavelet_transform(data, wavelet='db4', level=4):\n",
    "    coeffs = pywt.wavedec(data, wavelet, level=level)\n",
    "    return coeffs"
   ]
  },
  {
   "cell_type": "code",
   "execution_count": null,
   "metadata": {},
   "outputs": [],
   "source": [
    "# построение модели\n",
    "\n",
    "from tensorflow.keras.models import Sequential\n",
    "from tensorflow.keras.layers import Conv1D, MaxPooling1D, Flatten, Dense, Dropout\n",
    "\n",
    "model = Sequential()\n",
    "model.add(Conv1D(filters=64, kernel_size=3, activation='relu', input_shape=(32, 1024)))\n",
    "model.add(MaxPooling1D(pool_size=2))\n",
    "model.add(Conv1D(filters=128, kernel_size=3, activation='relu'))\n",
    "model.add(MaxPooling1D(pool_size=2))\n",
    "model.add(Flatten())\n",
    "model.add(Dense(128, activation='relu'))\n",
    "model.add(Dropout(0.5))\n",
    "model.add(Dense(1, activation='sigmoid'))  # Для бинарной классификации"
   ]
  },
  {
   "cell_type": "code",
   "execution_count": null,
   "metadata": {},
   "outputs": [],
   "source": [
    "# Компиляция модели\n",
    "\n",
    "model.compile(optimizer='adam', loss='binary_crossentropy', metrics=['accuracy'])"
   ]
  },
  {
   "cell_type": "code",
   "execution_count": null,
   "metadata": {},
   "outputs": [],
   "source": [
    "# Обучение модели\n",
    "\n",
    "history = model.fit(X_train, y_train, epochs=50, batch_size=32, validation_data=(X_val, y_val))"
   ]
  },
  {
   "cell_type": "code",
   "execution_count": null,
   "metadata": {},
   "outputs": [],
   "source": [
    "# Оценка на тестовой выборке\n",
    "\n",
    "test_loss, test_acc = model.evaluate(X_test, y_test)\n",
    "print(f'Test accuracy: {test_acc}')"
   ]
  },
  {
   "cell_type": "code",
   "execution_count": null,
   "metadata": {},
   "outputs": [],
   "source": [
    "# Анализ результатов\n",
    "\n",
    "import matplotlib.pyplot as plt\n",
    "\n",
    "plt.plot(history.history['accuracy'], label='Train Accuracy')\n",
    "plt.plot(history.history['val_accuracy'], label='Validation Accuracy')\n",
    "plt.xlabel('Epoch')\n",
    "plt.ylabel('Accuracy')\n",
    "plt.legend()\n",
    "plt.show()"
   ]
  }
 ],
 "metadata": {
  "kernelspec": {
   "display_name": "Python 3",
   "language": "python",
   "name": "python3"
  },
  "language_info": {
   "codemirror_mode": {
    "name": "ipython",
    "version": 3
   },
   "file_extension": ".py",
   "mimetype": "text/x-python",
   "name": "python",
   "nbconvert_exporter": "python",
   "pygments_lexer": "ipython3",
   "version": "3.9.19"
  }
 },
 "nbformat": 4,
 "nbformat_minor": 2
}
